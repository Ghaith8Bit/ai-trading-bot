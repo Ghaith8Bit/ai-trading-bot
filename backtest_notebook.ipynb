{
 "cells": [
  {
   "cell_type": "markdown",
   "id": "2d3806ab",
   "metadata": {},
   "source": [
    "# Classification Backtest Notebook"
   ]
  },
  {
   "cell_type": "markdown",
   "id": "b03e53cf",
   "metadata": {},
   "source": [
    "This notebook demonstrates how to backtest the trained classification model using the helper scripts provided in this repository."
   ]
  },
  {
   "cell_type": "code",
   "execution_count": null,
   "id": "8d232f20",
   "metadata": {},
   "outputs": [],
   "source": [
    "from pathlib import Path\n",
    "from examples.backtest import run_backtest"
   ]
  },
  {
   "cell_type": "code",
   "execution_count": null,
   "id": "7541b6bb",
   "metadata": {},
   "outputs": [],
   "source": [
    "MODEL_PATH = 'models/classification_model_v1.joblib'\n",
    "DATASET_PATH = 'data/processed/classification'\n",
    "CSV_PATH = 'data/raw/BTCUSDT_1h.csv'\n",
    "VERSION = 'v1'\n",
    "THRESHOLD = 0.5"
   ]
  },
  {
   "cell_type": "markdown",
   "id": "15324827",
   "metadata": {},
   "source": [
    "Run the backtest using the function from `examples/backtest.py`. The function will plot the equity curve and save the results under `plots/`.\n"
   ]
  },
  {
   "cell_type": "code",
   "execution_count": null,
   "id": "3d2a8829",
   "metadata": {},
   "outputs": [],
   "source": [
    "run_backtest(MODEL_PATH, DATASET_PATH, CSV_PATH, VERSION, THRESHOLD)"
   ]
  },
  {
   "cell_type": "code",
   "execution_count": null,
   "id": "9a89483b",
   "metadata": {},
   "outputs": [],
   "source": [
    "import pandas as pd\n",
    "results = pd.read_csv('plots/backtest_results.csv')\n",
    "results.tail()"
   ]
  }
 ],
 "metadata": {},
 "nbformat": 4,
 "nbformat_minor": 5
}
