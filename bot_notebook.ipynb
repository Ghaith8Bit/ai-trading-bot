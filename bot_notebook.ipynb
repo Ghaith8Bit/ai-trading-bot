{
  "cells": [
    {
      "cell_type": "markdown",
      "metadata": {},
      "source": [
        "# Dataset Generation Notebook"
      ]
    },
    {
      "cell_type": "markdown",
      "metadata": {},
      "source": [
        "This notebook demonstrates how to build both classification and regression datasets using the updated dataset generation utilities, including ML logging and custom window schemes."
      ]
    },
    {
      "cell_type": "code",
      "execution_count": 5,
      "metadata": {},
      "outputs": [
        {
          "name": "stdout",
          "output_type": "stream",
          "text": [
            "Requirement already satisfied: pandas in c:\\users\\ghait\\appdata\\local\\packages\\pythonsoftwarefoundation.python.3.11_qbz5n2kfra8p0\\localcache\\local-packages\\python311\\site-packages (from -r requirements.txt (line 1)) (2.2.3)\n",
            "Requirement already satisfied: numpy in c:\\users\\ghait\\appdata\\local\\packages\\pythonsoftwarefoundation.python.3.11_qbz5n2kfra8p0\\localcache\\local-packages\\python311\\site-packages (from -r requirements.txt (line 2)) (2.1.3)\n",
            "Requirement already satisfied: scikit-learn in c:\\users\\ghait\\appdata\\local\\packages\\pythonsoftwarefoundation.python.3.11_qbz5n2kfra8p0\\localcache\\local-packages\\python311\\site-packages (from -r requirements.txt (line 3)) (1.6.1)\n",
            "Requirement already satisfied: xgboost in c:\\users\\ghait\\appdata\\local\\packages\\pythonsoftwarefoundation.python.3.11_qbz5n2kfra8p0\\localcache\\local-packages\\python311\\site-packages (from -r requirements.txt (line 4)) (1.7.6)\n",
            "Requirement already satisfied: cupy-cuda11x in c:\\users\\ghait\\appdata\\local\\packages\\pythonsoftwarefoundation.python.3.11_qbz5n2kfra8p0\\localcache\\local-packages\\python311\\site-packages (from -r requirements.txt (line 5)) (13.4.1)\n",
            "Requirement already satisfied: lightgbm in c:\\users\\ghait\\appdata\\local\\packages\\pythonsoftwarefoundation.python.3.11_qbz5n2kfra8p0\\localcache\\local-packages\\python311\\site-packages (from -r requirements.txt (line 6)) (4.6.0)\n",
            "Requirement already satisfied: ta in c:\\users\\ghait\\appdata\\local\\packages\\pythonsoftwarefoundation.python.3.11_qbz5n2kfra8p0\\localcache\\local-packages\\python311\\site-packages (from -r requirements.txt (line 7)) (0.11.0)\n",
            "Requirement already satisfied: matplotlib in c:\\users\\ghait\\appdata\\local\\packages\\pythonsoftwarefoundation.python.3.11_qbz5n2kfra8p0\\localcache\\local-packages\\python311\\site-packages (from -r requirements.txt (line 8)) (3.10.3)\n",
            "Requirement already satisfied: seaborn in c:\\users\\ghait\\appdata\\local\\packages\\pythonsoftwarefoundation.python.3.11_qbz5n2kfra8p0\\localcache\\local-packages\\python311\\site-packages (from -r requirements.txt (line 9)) (0.13.2)\n",
            "Requirement already satisfied: jupyter in c:\\users\\ghait\\appdata\\local\\packages\\pythonsoftwarefoundation.python.3.11_qbz5n2kfra8p0\\localcache\\local-packages\\python311\\site-packages (from -r requirements.txt (line 10)) (1.1.1)\n",
            "Requirement already satisfied: joblib in c:\\users\\ghait\\appdata\\local\\packages\\pythonsoftwarefoundation.python.3.11_qbz5n2kfra8p0\\localcache\\local-packages\\python311\\site-packages (from -r requirements.txt (line 11)) (1.5.0)\n",
            "Requirement already satisfied: PyWavelets in c:\\users\\ghait\\appdata\\local\\packages\\pythonsoftwarefoundation.python.3.11_qbz5n2kfra8p0\\localcache\\local-packages\\python311\\site-packages (from -r requirements.txt (line 12)) (1.8.0)\n",
            "Collecting category_encoders (from -r requirements.txt (line 13))\n",
            "  Using cached category_encoders-2.8.1-py3-none-any.whl.metadata (7.9 kB)\n",
            "Requirement already satisfied: pyarrow in c:\\users\\ghait\\appdata\\local\\packages\\pythonsoftwarefoundation.python.3.11_qbz5n2kfra8p0\\localcache\\local-packages\\python311\\site-packages (from -r requirements.txt (line 14)) (19.0.1)\n",
            "Requirement already satisfied: mlflow in c:\\users\\ghait\\appdata\\local\\packages\\pythonsoftwarefoundation.python.3.11_qbz5n2kfra8p0\\localcache\\local-packages\\python311\\site-packages (from -r requirements.txt (line 15)) (2.22.0)\n",
            "Collecting wandb (from -r requirements.txt (line 16))\n",
            "  Using cached wandb-0.20.1-py3-none-win_amd64.whl.metadata (10 kB)\n",
            "Collecting cudf-cu11 (from -r requirements.txt (line 17))\n",
            "  Using cached cudf_cu11-25.4.0.tar.gz (2.7 kB)\n",
            "  Installing build dependencies: started\n",
            "  Installing build dependencies: finished with status 'done'\n",
            "  Getting requirements to build wheel: started\n",
            "  Getting requirements to build wheel: finished with status 'done'\n",
            "  Preparing metadata (pyproject.toml): started\n",
            "  Preparing metadata (pyproject.toml): finished with status 'error'\n"
          ]
        },
        {
          "name": "stderr",
          "output_type": "stream",
          "text": [
            "WARNING: Ignoring invalid distribution ~ipenv (C:\\Users\\ghait\\AppData\\Local\\Packages\\PythonSoftwareFoundation.Python.3.11_qbz5n2kfra8p0\\LocalCache\\local-packages\\Python311\\site-packages)\n",
            "  error: subprocess-exited-with-error\n",
            "  \n",
            "  × Preparing metadata (pyproject.toml) did not run successfully.\n",
            "  │ exit code: 1\n",
            "  ╰─> [68 lines of output]\n",
            "      INFO:wheel-stub:Testing wheel cudf_cu11-25.4.0-cp310-cp310-manylinux_2_24_aarch64.manylinux_2_28_aarch64.whl against tag cp310-cp310-manylinux_2_24_aarch64\n",
            "      INFO:wheel-stub:Testing wheel cudf_cu11-25.4.0-cp310-cp310-manylinux_2_24_aarch64.manylinux_2_28_aarch64.whl against tag cp310-cp310-manylinux_2_28_aarch64\n",
            "      INFO:wheel-stub:Testing wheel cudf_cu11-25.4.0-cp310-cp310-manylinux_2_24_x86_64.manylinux_2_28_x86_64.whl against tag cp310-cp310-manylinux_2_24_x86_64\n",
            "      INFO:wheel-stub:Testing wheel cudf_cu11-25.4.0-cp310-cp310-manylinux_2_24_x86_64.manylinux_2_28_x86_64.whl against tag cp310-cp310-manylinux_2_28_x86_64\n",
            "      INFO:wheel-stub:Testing wheel cudf_cu11-25.4.0-cp311-cp311-manylinux_2_24_aarch64.manylinux_2_28_aarch64.whl against tag cp311-cp311-manylinux_2_24_aarch64\n",
            "      INFO:wheel-stub:Testing wheel cudf_cu11-25.4.0-cp311-cp311-manylinux_2_24_aarch64.manylinux_2_28_aarch64.whl against tag cp311-cp311-manylinux_2_28_aarch64\n",
            "      INFO:wheel-stub:Testing wheel cudf_cu11-25.4.0-cp311-cp311-manylinux_2_24_x86_64.manylinux_2_28_x86_64.whl against tag cp311-cp311-manylinux_2_24_x86_64\n",
            "      INFO:wheel-stub:Testing wheel cudf_cu11-25.4.0-cp311-cp311-manylinux_2_24_x86_64.manylinux_2_28_x86_64.whl against tag cp311-cp311-manylinux_2_28_x86_64\n",
            "      INFO:wheel-stub:Testing wheel cudf_cu11-25.4.0-cp312-cp312-manylinux_2_24_aarch64.manylinux_2_28_aarch64.whl against tag cp312-cp312-manylinux_2_28_aarch64\n",
            "      INFO:wheel-stub:Testing wheel cudf_cu11-25.4.0-cp312-cp312-manylinux_2_24_aarch64.manylinux_2_28_aarch64.whl against tag cp312-cp312-manylinux_2_24_aarch64\n",
            "      INFO:wheel-stub:Testing wheel cudf_cu11-25.4.0-cp312-cp312-manylinux_2_24_x86_64.manylinux_2_28_x86_64.whl against tag cp312-cp312-manylinux_2_24_x86_64\n",
            "      INFO:wheel-stub:Testing wheel cudf_cu11-25.4.0-cp312-cp312-manylinux_2_24_x86_64.manylinux_2_28_x86_64.whl against tag cp312-cp312-manylinux_2_28_x86_64\n",
            "        File \"C:\\Users\\ghait\\AppData\\Local\\Temp\\pip-build-env-tvr4ixab\\overlay\\Lib\\site-packages\\wheel_stub\\wheel.py\", line 249, in download_wheel\n",
            "          return download_manual(wheel_directory, distribution, version, config)\n",
            "                 ^^^^^^^^^^^^^^^^^^^^^^^^^^^^^^^^^^^^^^^^^^^^^^^^^^^^^^^^^^^^^^^\n",
            "        File \"C:\\Users\\ghait\\AppData\\Local\\Temp\\pip-build-env-tvr4ixab\\overlay\\Lib\\site-packages\\wheel_stub\\wheel.py\", line 185, in download_manual\n",
            "          raise RuntimeError(f\"Didn't find wheel for {distribution} {version}\")\n",
            "      Traceback (most recent call last):\n",
            "        File \"C:\\Users\\ghait\\AppData\\Local\\Temp\\pip-build-env-tvr4ixab\\overlay\\Lib\\site-packages\\wheel_stub\\wheel.py\", line 249, in download_wheel\n",
            "          return download_manual(wheel_directory, distribution, version, config)\n",
            "                 ^^^^^^^^^^^^^^^^^^^^^^^^^^^^^^^^^^^^^^^^^^^^^^^^^^^^^^^^^^^^^^^\n",
            "        File \"C:\\Users\\ghait\\AppData\\Local\\Temp\\pip-build-env-tvr4ixab\\overlay\\Lib\\site-packages\\wheel_stub\\wheel.py\", line 185, in download_manual\n",
            "          raise RuntimeError(f\"Didn't find wheel for {distribution} {version}\")\n",
            "      RuntimeError: Didn't find wheel for cudf-cu11 25.4.0\n",
            "      \n",
            "      During handling of the above exception, another exception occurred:\n",
            "      \n",
            "      Traceback (most recent call last):\n",
            "        File \"C:\\Users\\ghait\\AppData\\Local\\Packages\\PythonSoftwareFoundation.Python.3.11_qbz5n2kfra8p0\\LocalCache\\local-packages\\Python311\\site-packages\\pip\\_vendor\\pyproject_hooks\\_in_process\\_in_process.py\", line 389, in <module>\n",
            "          main()\n",
            "        File \"C:\\Users\\ghait\\AppData\\Local\\Packages\\PythonSoftwareFoundation.Python.3.11_qbz5n2kfra8p0\\LocalCache\\local-packages\\Python311\\site-packages\\pip\\_vendor\\pyproject_hooks\\_in_process\\_in_process.py\", line 373, in main\n",
            "          json_out[\"return_val\"] = hook(**hook_input[\"kwargs\"])\n",
            "                                   ^^^^^^^^^^^^^^^^^^^^^^^^^^^^\n",
            "        File \"C:\\Users\\ghait\\AppData\\Local\\Packages\\PythonSoftwareFoundation.Python.3.11_qbz5n2kfra8p0\\LocalCache\\local-packages\\Python311\\site-packages\\pip\\_vendor\\pyproject_hooks\\_in_process\\_in_process.py\", line 178, in prepare_metadata_for_build_wheel\n",
            "          whl_basename = backend.build_wheel(metadata_directory, config_settings)\n",
            "                         ^^^^^^^^^^^^^^^^^^^^^^^^^^^^^^^^^^^^^^^^^^^^^^^^^^^^^^^^\n",
            "        File \"C:\\Users\\ghait\\AppData\\Local\\Temp\\pip-build-env-tvr4ixab\\overlay\\Lib\\site-packages\\wheel_stub\\buildapi.py\", line 29, in build_wheel\n",
            "          return download_wheel(pathlib.Path(wheel_directory), config_settings)\n",
            "                 ^^^^^^^^^^^^^^^^^^^^^^^^^^^^^^^^^^^^^^^^^^^^^^^^^^^^^^^^^^^^^^\n",
            "        File \"C:\\Users\\ghait\\AppData\\Local\\Temp\\pip-build-env-tvr4ixab\\overlay\\Lib\\site-packages\\wheel_stub\\wheel.py\", line 251, in download_wheel\n",
            "          report_install_failure(distribution, version, config, exception_context)\n",
            "        File \"C:\\Users\\ghait\\AppData\\Local\\Temp\\pip-build-env-tvr4ixab\\overlay\\Lib\\site-packages\\wheel_stub\\error.py\", line 67, in report_install_failure\n",
            "          raise InstallFailedError(\n",
            "      wheel_stub.error.InstallFailedError:\n",
            "      *******************************************************************************\n",
            "      \n",
            "      The installation of cudf-cu11 for version 25.4.0 failed.\n",
            "      \n",
            "      This is a special placeholder package which downloads a real wheel package\n",
            "      from https://pypi.nvidia.com/. If https://pypi.nvidia.com/ is not reachable, we\n",
            "      cannot download the real wheel file to install.\n",
            "      \n",
            "      You might try installing this package via\n",
            "      ```\n",
            "      $ pip install --extra-index-url https://pypi.nvidia.com/ cudf-cu11\n",
            "      ```\n",
            "      \n",
            "      Here is some debug information about your platform to include in any bug\n",
            "      report:\n",
            "      \n",
            "      Python Version: CPython 3.11.9\n",
            "      Operating System: Windows 10\n",
            "      CPU Architecture: AMD64\n",
            "      Driver Version: 576.02\n",
            "      CUDA Version: 12.9\n",
            "      \n",
            "      *******************************************************************************\n",
            "      \n",
            "      [end of output]\n",
            "  \n",
            "  note: This error originates from a subprocess, and is likely not a problem with pip.\n",
            "error: metadata-generation-failed\n",
            "\n",
            "× Encountered error while generating package metadata.\n",
            "╰─> See above for output.\n",
            "\n",
            "note: This is an issue with the package mentioned above, not pip.\n",
            "hint: See above for details.\n"
          ]
        }
      ],
      "source": [
        "# Install dependencies (optional if already installed)\n",
        "!pip install -r requirements.txt"
      ]
    },
    {
      "cell_type": "code",
      "execution_count": 6,
      "metadata": {},
      "outputs": [],
      "source": [
        "from utils.build_dataset import generate_dataset"
      ]
    },
    {
      "cell_type": "markdown",
      "metadata": {},
      "source": [
        "## Build classification dataset"
      ]
    },
    {
      "cell_type": "code",
      "execution_count": 7,
      "metadata": {},
      "outputs": [
        {
          "name": "stdout",
          "output_type": "stream",
          "text": [
            "✅ Loaded 67999 rows from data/raw/BTCUSDT_1h.csv\n",
            "⚠️ Market regime detection failed: Expected n_samples >= n_components but got n_components = 5, n_samples = 2\n",
            "✅ Built 1168 features | 67908 samples\n",
            "🧹 Removed 0 rows with NaN labels\n",
            "🔍 Starting feature selection on 1164 features for classification...\n",
            "🧹 Variance threshold: 169 features removed\n",
            "🧹 Correlation filter: 403 features removed\n",
            "📊 MI selected 100 candidate features\n",
            "⏱️ Feature selection completed in 186.54s\n",
            "🎯 Final feature count: 40\n",
            "💾 Saved selected feature names to data/processed/classification\\selected_features_v1.csv\n",
            "📊 PCA reduced to 20 components (95% variance)\n",
            "✅ Dataset saved to data/processed/classification\n",
            "📊 Final shape: (67908, 20) features, (67908, 1) labels\n",
            "📝 Saved comprehensive feature reference for deployment\n"
          ]
        }
      ],
      "source": [
        "generate_dataset(\n",
        "    raw_path='data/raw/BTCUSDT_1h.csv',\n",
        "    output_dir='data/processed/classification',\n",
        "    version='v1',\n",
        "    task='classification',\n",
        "    horizon=3,\n",
        "    use_gpu=True,\n",
        "    ml_logger='mlflow',\n",
        "    tracking_uri='file:./mlruns',\n",
        "    window_scheme='fibonacci'\n",
        ")"
      ]
    },
    {
      "cell_type": "markdown",
      "metadata": {},
      "source": [
        "## Build regression dataset"
      ]
    },
    {
      "cell_type": "code",
      "execution_count": 8,
      "metadata": {},
      "outputs": [
        {
          "name": "stdout",
          "output_type": "stream",
          "text": [
            "✅ Loaded 67999 rows from data/raw/BTCUSDT_1h.csv\n",
            "⚠️ Market regime detection failed: Expected n_samples >= n_components but got n_components = 5, n_samples = 2\n",
            "✅ Built 1168 features | 67908 samples\n",
            "🧹 Removed 1 rows with NaN labels\n",
            "🔍 Starting feature selection on 1163 features for regression...\n",
            "🧹 Variance threshold: 169 features removed\n",
            "🧹 Correlation filter: 402 features removed\n",
            "📊 MI selected 100 candidate features\n",
            "⏱️ Feature selection completed in 197.62s\n",
            "🎯 Final feature count: 40\n",
            "💾 Saved selected feature names to data/processed/regression\\selected_features_v1.csv\n",
            "📊 PCA reduced to 30 components (95% variance)\n",
            "✅ Dataset saved to data/processed/regression\n",
            "📊 Final shape: (67907, 30) features, (67907, 3) labels\n",
            "📝 Saved comprehensive feature reference for deployment\n"
          ]
        }
      ],
      "source": [
        "generate_dataset(\n",
        "    raw_path='data/raw/BTCUSDT_1h.csv',\n",
        "    output_dir='data/processed/regression',\n",
        "    version='v1',\n",
        "    task='regression',\n",
        "    horizon=3,\n",
        "    use_gpu=True,\n",
        "    ml_logger='mlflow',\n",
        "    tracking_uri='file:./mlruns',\n",
        "    window_scheme='fibonacci'\n",
        ")"
      ]
    }
  ],
  "metadata": {
    "kernelspec": {
      "display_name": "Python 3",
      "language": "python",
      "name": "python3"
    },
    "language_info": {
      "codemirror_mode": {
        "name": "ipython",
        "version": 3
      },
      "file_extension": ".py",
      "mimetype": "text/x-python",
      "name": "python",
      "nbconvert_exporter": "python",
      "pygments_lexer": "ipython3",
      "version": "3.11.9"
    }
  },
  "nbformat": 4,
  "nbformat_minor": 5
}
