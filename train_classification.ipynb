{
 "cells": [
  {
   "cell_type": "markdown",
   "id": "709587b5",
   "metadata": {},
   "source": [
    "# Cryptocurrency Classification Training\n",
    "This notebook demonstrates a from-scratch training pipeline to predict bullish hours using engineered features."
   ]
  },
  {
   "cell_type": "markdown",
   "id": "57b93ed8",
   "metadata": {},
   "source": [
    "## 1. Generate or load dataset"
   ]
  },
  {
   "cell_type": "code",
   "execution_count": null,
   "id": "04f16519",
   "metadata": {},
   "outputs": [],
   "source": [
    "from pathlib import Path\n",
    "from utils.build_dataset import generate_dataset\n",
    "\n",
    "RAW_CSV = Path('data/raw/BTCUSDT_1h.csv')\n",
    "OUTPUT_DIR = Path('data/processed/classification')\n",
    "VERSION = 'v2'\n",
    "\n",
    "# Generate dataset if it does not already exist\n",
    "if not (OUTPUT_DIR / f'X_{VERSION}.parquet').exists():\n",
    "    generate_dataset(\n",
    "        raw_path=str(RAW_CSV),\n",
    "        output_dir=str(OUTPUT_DIR),\n",
    "        version=VERSION,\n",
    "        task='classification',\n",
    "        horizon=3,\n",
    "        ml_logger=None,\n",
    "    )\n"
   ]
  },
  {
   "cell_type": "markdown",
   "id": "bd56dcd2",
   "metadata": {},
   "source": [
    "## 2. Load processed features and labels"
   ]
  },
  {
   "cell_type": "code",
   "execution_count": null,
   "id": "8f818f57",
   "metadata": {},
   "outputs": [],
   "source": [
    "import pandas as pd\n",
    "\n",
    "base = Path('data/processed/classification')\n",
    "X = pd.read_parquet(base / 'X_v2.parquet')\n",
    "y = pd.read_parquet(base / 'y_v2.parquet').squeeze()\n",
    "\n",
    "# Align indices and sort chronologically\n",
    "X = X.sort_index()\n",
    "y = y.loc[X.index]\n"
   ]
  },
  {
   "cell_type": "markdown",
   "id": "e79a9458",
   "metadata": {},
   "source": [
    "## 3. Train/test split"
   ]
  },
  {
   "cell_type": "code",
   "execution_count": null,
   "id": "63efc9b5",
   "metadata": {},
   "outputs": [],
   "source": [
    "split_idx = int(len(X) * 0.8)\n",
    "X_train, X_test = X.iloc[:split_idx], X.iloc[split_idx:]\n",
    "y_train, y_test = y.iloc[:split_idx], y.iloc[split_idx:]\n"
   ]
  },
  {
   "cell_type": "markdown",
   "id": "73ff0972",
   "metadata": {},
   "source": [
    "## 4. Hyperparameter search"
   ]
  },
  {
   "cell_type": "code",
   "execution_count": null,
   "id": "a3e3559c",
   "metadata": {},
   "outputs": [],
   "source": [
    "from sklearn.model_selection import TimeSeriesSplit, RandomizedSearchCV\n",
    "from sklearn.metrics import roc_auc_score, accuracy_score, precision_score, recall_score, f1_score\n",
    "from sklearn.linear_model import LogisticRegression\n",
    "from xgboost import XGBClassifier\n",
    "import numpy as np\n",
    "\n",
    "# Search space for LogisticRegression\n",
    "lr = LogisticRegression(max_iter=1000)\n",
    "param_dist_lr = {\n",
    "    'C': np.logspace(-3, 1, 20),\n",
    "    'penalty': ['l2'],\n",
    "}\n",
    "\n",
    "# Search space for XGBoost\n",
    "xgb = XGBClassifier(use_label_encoder=False, eval_metric='logloss')\n",
    "param_dist_xgb = {\n",
    "    'n_estimators': [100, 200, 300],\n",
    "    'learning_rate': [0.01, 0.05, 0.1],\n",
    "    'max_depth': [3, 5, 7],\n",
    "}\n",
    "\n",
    "cv = TimeSeriesSplit(n_splits=3)\n",
    "\n",
    "search_lr = RandomizedSearchCV(lr, param_dist_lr, n_iter=10, cv=cv, scoring='roc_auc', n_jobs=-1, random_state=42)\n",
    "search_lr.fit(X_train, y_train)\n",
    "\n",
    "search_xgb = RandomizedSearchCV(xgb, param_dist_xgb, n_iter=10, cv=cv, scoring='roc_auc', n_jobs=-1, random_state=42)\n",
    "search_xgb.fit(X_train, y_train)\n"
   ]
  },
  {
   "cell_type": "markdown",
   "id": "32e1e2ec",
   "metadata": {},
   "source": [
    "## 5. Evaluate best model"
   ]
  },
  {
   "cell_type": "code",
   "execution_count": null,
   "id": "48613237",
   "metadata": {},
   "outputs": [],
   "source": [
    "models = {\n",
    "    'LogisticRegression': search_lr.best_estimator_,\n",
    "    'XGBClassifier': search_xgb.best_estimator_,\n",
    "}\n",
    "\n",
    "results = {}\n",
    "for name, model in models.items():\n",
    "    proba = model.predict_proba(X_test)[:, 1]\n",
    "    preds = (proba > 0.5).astype(int)\n",
    "    results[name] = {\n",
    "        'roc_auc': roc_auc_score(y_test, proba),\n",
    "        'accuracy': accuracy_score(y_test, preds),\n",
    "        'precision': precision_score(y_test, preds),\n",
    "        'recall': recall_score(y_test, preds),\n",
    "        'f1': f1_score(y_test, preds),\n",
    "    }\n",
    "\n",
    "results\n"
   ]
  },
  {
   "cell_type": "markdown",
   "id": "9046a09d",
   "metadata": {},
   "source": [
    "## 6. Save the best model"
   ]
  },
  {
   "cell_type": "code",
   "execution_count": null,
   "id": "ee7aff1e",
   "metadata": {},
   "outputs": [],
   "source": [
    "from joblib import dump\n",
    "\n",
    "best_name = max(results, key=lambda k: results[k]['roc_auc'])\n",
    "best_model = models[best_name]\n",
    "Path('models').mkdir(exist_ok=True)\n",
    "model_path = Path('models') / f'classification_{best_name.lower()}_v2.joblib'\n",
    "dump(best_model, model_path)\n",
    "print('Saved', model_path)\n"
   ]
  }
 ],
 "metadata": {},
 "nbformat": 4,
 "nbformat_minor": 5
}
