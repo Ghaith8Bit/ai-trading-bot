{
 "cells": [
  {
   "cell_type": "markdown",
   "metadata": {},
   "source": [
    "# Backtest Example\n",
    "This notebook demonstrates running a simple probability threshold backtest using the saved model bundle."
   ]
  },
  {
   "cell_type": "code",
   "execution_count": null,
   "metadata": {},
   "outputs": [],
   "source": [
    "from pathlib import Path\n",
    "from joblib import load\n",
    "import pandas as pd\n",
    "import matplotlib.pyplot as plt\n",
    "\n",
    "from utils.build_dataset import prepare_inference_data\n",
    "from examples.backtest import run_backtest\n",
    "\n",
    "bundle_path = 'models/classification/bundle_v1.joblib'\n",
    "dataset_path = 'data/processed/classification'\n",
    "csv_path = 'data/raw/BTCUSDT_1h.csv'\n",
    "version = 'v1'\n",
    "\n",
    "run_backtest(bundle_path, dataset_path, csv_path, version, None)"
   ]
  }
 ],
 "metadata": {
  "kernelspec": {
   "display_name": "Python 3",
   "language": "python",
   "name": "python3"
  },
  "language_info": {
   "name": "python",
   "pygments_lexer": "ipython3"
  }
 },
 "nbformat": 4,
 "nbformat_minor": 5
}
