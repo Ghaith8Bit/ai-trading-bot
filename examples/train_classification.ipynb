{
 "cells": [
  {
   "cell_type": "markdown",
   "id": "20ce0e27",
   "metadata": {},
   "source": [
    "# Classification Training Example\n",
    "This notebook mirrors `examples/train_classification.py` for a step-by-step walkthrough of training a simple model."
   ]
  },
  {
   "cell_type": "code",
   "execution_count": null,
   "id": "a664468e",
   "metadata": {},
   "outputs": [],
   "source": [
    "from pathlib import Path\n",
    "import pandas as pd\n",
    "from joblib import dump\n",
    "from sklearn.linear_model import LogisticRegression\n",
    "from sklearn.metrics import (accuracy_score, precision_score, recall_score, f1_score, roc_auc_score, confusion_matrix, classification_report, roc_curve, precision_recall_curve)\n",
    "import matplotlib.pyplot as plt\n",
    "import seaborn as sns"
   ]
  },
  {
   "cell_type": "markdown",
   "id": "81cf8622",
   "metadata": {},
   "source": [
    "## Load dataset"
   ]
  },
  {
   "cell_type": "code",
   "execution_count": null,
   "id": "a56615f2",
   "metadata": {},
   "outputs": [],
   "source": [
    "base = Path(\"data/processed/classification\")\n",
    "X = pd.read_parquet(base / \"X_v1.parquet\")\n",
    "y = pd.read_parquet(base / \"y_v1.parquet\").squeeze()\n",
    "\n",
    "X = X.sort_index()\n",
    "y = y.loc[X.index]\n",
    "print(X.shape, y.shape)"
   ]
  },
  {
   "cell_type": "markdown",
   "id": "1949fbaf",
   "metadata": {},
   "source": [
    "## Train/test split and logistic regression"
   ]
  },
  {
   "cell_type": "code",
   "execution_count": null,
   "id": "f8c31c79",
   "metadata": {},
   "outputs": [],
   "source": [
    "split_idx = int(len(X) * 0.8)\n",
    "X_train, X_test = X.iloc[:split_idx], X.iloc[split_idx:]\n",
    "y_train, y_test = y.iloc[:split_idx], y.iloc[split_idx:]\n",
    "\n",
    "lr = LogisticRegression(max_iter=1000)\n",
    "lr.fit(X_train, y_train)"
   ]
  },
  {
   "cell_type": "code",
   "execution_count": null,
   "id": "280d0fb8",
   "metadata": {},
   "outputs": [],
   "source": [
    "lr_train_preds = lr.predict(X_train)\n",
    "lr_train_proba = lr.predict_proba(X_train)[:, 1]\n",
    "lr_test_preds = lr.predict(X_test)\n",
    "lr_test_proba = lr.predict_proba(X_test)[:, 1]\n",
    "\n",
    "train_metrics = {\n",
    "    \"accuracy\": accuracy_score(y_train, lr_train_preds),\n",
    "    \"precision\": precision_score(y_train, lr_train_preds),\n",
    "    \"recall\": recall_score(y_train, lr_train_preds),\n",
    "    \"f1\": f1_score(y_train, lr_train_preds),\n",
    "    \"roc_auc\": roc_auc_score(y_train, lr_train_proba),\n",
    "}\n",
    "\n",
    "test_metrics = {\n",
    "    \"accuracy\": accuracy_score(y_test, lr_test_preds),\n",
    "    \"precision\": precision_score(y_test, lr_test_preds),\n",
    "    \"recall\": recall_score(y_test, lr_test_preds),\n",
    "    \"f1\": f1_score(y_test, lr_test_preds),\n",
    "    \"roc_auc\": roc_auc_score(y_test, lr_test_proba),\n",
    "}\n",
    "print(\"LogisticRegression Train Metrics:\")\n",
    "for k, v in train_metrics.items():\n",
    "    print(f\"  {k.capitalize()}: {v:.4f}\")\n",
    "print(\"LogisticRegression Test Metrics:\")\n",
    "for k, v in test_metrics.items():\n",
    "    print(f\"  {k.capitalize()}: {v:.4f}\")\n",
    "print(\"Confusion Matrix:\n",
    "\", confusion_matrix(y_test, lr_test_preds))\n",
    "print(classification_report(y_test, lr_test_preds))"
   ]
  },
  {
   "cell_type": "code",
   "execution_count": null,
   "id": "3d773e15",
   "metadata": {},
   "outputs": [],
   "source": [
    "plots_dir = Path(\"plots\")\n",
    "plots_dir.mkdir(exist_ok=True)\n",
    "\n",
    "fpr, tpr, _ = roc_curve(y_test, lr_test_proba)\n",
    "plt.figure()\n",
    "plt.plot(fpr, tpr, label=\"LogisticRegression\")\n",
    "plt.xlabel(\"False Positive Rate\")\n",
    "plt.ylabel(\"True Positive Rate\")\n",
    "plt.title(\"ROC Curve\")\n",
    "plt.legend()\n",
    "plt.show()\n",
    "plt.close()\n",
    "\n",
    "precision, recall, _ = precision_recall_curve(y_test, lr_test_proba)\n",
    "plt.figure()\n",
    "plt.plot(recall, precision, label=\"LogisticRegression\")\n",
    "plt.xlabel(\"Recall\")\n",
    "plt.ylabel(\"Precision\")\n",
    "plt.title(\"Precision-Recall Curve\")\n",
    "plt.legend()\n",
    "plt.show()\n",
    "plt.close()\n",
    "\n",
    "cm = confusion_matrix(y_test, lr_test_preds)\n",
    "plt.figure()\n",
    "sns.heatmap(cm, annot=True, fmt=\"d\", cmap=\"Blues\")\n",
    "plt.xlabel(\"Predicted\")\n",
    "plt.ylabel(\"Actual\")\n",
    "plt.title(\"Confusion Matrix\")\n",
    "plt.show()\n",
    "plt.close()"
   ]
  },
  {
   "cell_type": "markdown",
   "id": "f2821f01",
   "metadata": {},
   "source": [
    "## Optional: XGBoost Classifier"
   ]
  },
  {
   "cell_type": "code",
   "execution_count": null,
   "id": "764293e3",
   "metadata": {},
   "outputs": [],
   "source": [
    "try:\n",
    "    from xgboost import XGBClassifier\n",
    "\n",
    "    xgb = XGBClassifier(use_label_encoder=False, eval_metric=\"logloss\")\n",
    "    xgb.fit(X_train, y_train)\n",
    "    xgb_train_preds = xgb.predict(X_train)\n",
    "    xgb_train_proba = xgb.predict_proba(X_train)[:, 1]\n",
    "    xgb_test_preds = xgb.predict(X_test)\n",
    "    xgb_test_proba = xgb.predict_proba(X_test)[:, 1]\n",
    "\n",
    "    train_metrics = {\n",
    "        \"accuracy\": accuracy_score(y_train, xgb_train_preds),\n",
    "        \"precision\": precision_score(y_train, xgb_train_preds),\n",
    "        \"recall\": recall_score(y_train, xgb_train_preds),\n",
    "        \"f1\": f1_score(y_train, xgb_train_preds),\n",
    "        \"roc_auc\": roc_auc_score(y_train, xgb_train_proba),\n",
    "    }\n",
    "    test_metrics = {\n",
    "        \"accuracy\": accuracy_score(y_test, xgb_test_preds),\n",
    "        \"precision\": precision_score(y_test, xgb_test_preds),\n",
    "        \"recall\": recall_score(y_test, xgb_test_preds),\n",
    "        \"f1\": f1_score(y_test, xgb_test_preds),\n",
    "        \"roc_auc\": roc_auc_score(y_test, xgb_test_proba),\n",
    "    }\n",
    "    print(\"XGBClassifier Train Metrics:\")\n",
    "    for k, v in train_metrics.items():\n",
    "        print(f\"  {k.capitalize()}: {v:.4f}\")\n",
    "    print(\"XGBClassifier Test Metrics:\")\n",
    "    for k, v in test_metrics.items():\n",
    "        print(f\"  {k.capitalize()}: {v:.4f}\")\n",
    "    print(confusion_matrix(y_test, xgb_test_preds))\n",
    "except Exception as e:\n",
    "    print(f\"XGBClassifier not available: {e}\")"
   ]
  },
  {
   "cell_type": "markdown",
   "id": "10d1137e",
   "metadata": {},
   "source": [
    "## Save model"
   ]
  },
  {
   "cell_type": "code",
   "execution_count": null,
   "id": "fa367ee6",
   "metadata": {},
   "outputs": [],
   "source": [
    "models_dir = Path(\"models\")\n",
    "models_dir.mkdir(exist_ok=True)\n",
    "dump(lr, models_dir / \"classification_model_v1.joblib\")"
   ]
  },
  {
   "cell_type": "markdown",
   "id": "70e8a3b6",
   "metadata": {},
   "source": [
    "This notebook saves the trained logistic regression model and visualizes common metrics. Results may vary depending on your dataset version."
   ]
  }
 ],
 "metadata": {},
 "nbformat": 4,
 "nbformat_minor": 5
}
